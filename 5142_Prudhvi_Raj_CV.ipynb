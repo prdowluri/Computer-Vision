{
  "cells": [
    {
      "cell_type": "markdown",
      "metadata": {
        "id": "3GQLDMylKTOT"
      },
      "source": [
        "Task is to build an image classifier with Keras and Convolutional Neural Networks for the Fashion MNIST dataset. This data set includes 10 labels of different clothing types with 28 by 28 *grayscale* images. There is a training set of 60,000 images and 10,000 test images.\n",
        "\n",
        "    Label\tDescription\n",
        "    0\t    T-shirt/top\n",
        "    1\t    Trouser\n",
        "    2\t    Pullover\n",
        "    3\t    Dress\n",
        "    4\t    Coat\n",
        "    5\t    Sandal\n",
        "    6\t    Shirt\n",
        "    7\t    Sneaker\n",
        "    8\t    Bag\n",
        "    9\t    Ankle boot\n",
        "    \n",
        " "
      ]
    },
    {
      "cell_type": "code",
      "execution_count": 1,
      "metadata": {
        "id": "MWy5ECyFKTOY"
      },
      "outputs": [],
      "source": [
        "## Import the required libaries what we want\n",
        "import tensorflow as tf\n",
        "from tensorflow import keras\n",
        "from tensorflow.keras import datasets, layers, models\n",
        "from tensorflow.keras.utils import to_categorical\n",
        "import matplotlib.pyplot as plt\n",
        "%matplotlib inline\n",
        "import numpy as np"
      ]
    },
    {
      "cell_type": "markdown",
      "metadata": {
        "id": "b22JsqlCKTOa"
      },
      "source": [
        "## Data\n",
        "\n",
        "**TASK 1: Download the dataset using Keras.**"
      ]
    },
    {
      "cell_type": "code",
      "execution_count": 2,
      "metadata": {
        "colab": {
          "base_uri": "https://localhost:8080/"
        },
        "id": "cd4Ov4VyKTOb",
        "outputId": "4cc9c54e-c819-4156-8a2c-c0ff2f35b515"
      },
      "outputs": [
        {
          "output_type": "stream",
          "name": "stdout",
          "text": [
            "Downloading data from https://storage.googleapis.com/tensorflow/tf-keras-datasets/train-labels-idx1-ubyte.gz\n",
            "29515/29515 [==============================] - 0s 0us/step\n",
            "Downloading data from https://storage.googleapis.com/tensorflow/tf-keras-datasets/train-images-idx3-ubyte.gz\n",
            "26421880/26421880 [==============================] - 0s 0us/step\n",
            "Downloading data from https://storage.googleapis.com/tensorflow/tf-keras-datasets/t10k-labels-idx1-ubyte.gz\n",
            "5148/5148 [==============================] - 0s 0us/step\n",
            "Downloading data from https://storage.googleapis.com/tensorflow/tf-keras-datasets/t10k-images-idx3-ubyte.gz\n",
            "4422102/4422102 [==============================] - 0s 0us/step\n"
          ]
        }
      ],
      "source": [
        "## Load the data using keras\n",
        "(X_train, y_train) , (X_test, y_test) = keras.datasets.fashion_mnist.load_data()"
      ]
    },
    {
      "cell_type": "markdown",
      "metadata": {
        "id": "d7rHyPO2KTOc"
      },
      "source": [
        "## Visualizing the Data\n",
        "\n",
        "**TASK 2: Use matplotlib to view an image from the data set. It can be any image from the data set.**"
      ]
    },
    {
      "cell_type": "code",
      "execution_count": 4,
      "metadata": {
        "colab": {
          "base_uri": "https://localhost:8080/",
          "height": 265
        },
        "id": "JNGBOy7tKTOd",
        "outputId": "040ee94d-3cb2-4181-bfcc-b1df8e2c003e"
      },
      "outputs": [
        {
          "output_type": "display_data",
          "data": {
            "text/plain": [
              "<Figure size 432x288 with 1 Axes>"
            ],
            "image/png": "[encoded data removed]"
          },
          "metadata": {
            "needs_background": "light"
          }
        }
      ],
      "source": [
        "## plot the graph of x_train\n",
        "plt.imshow(X_train[5])\n",
        "plt.show()"
      ]
    },
    {
      "cell_type": "markdown",
      "metadata": {
        "id": "ntlTCWNnKTOh"
      },
      "source": [
        "\n",
        "\n",
        "## Preprocessing the Data\n",
        "\n",
        "**TASK 3: Normalize the X train and X test data by dividing by the max value of the image arrays.**"
      ]
    },
    {
      "cell_type": "code",
      "execution_count": 5,
      "metadata": {
        "id": "hkH2z05aKTOi"
      },
      "outputs": [],
      "source": [
        "## To normalize the X_train data with maximum value 255\n",
        "X_train = X_train / 255"
      ]
    },
    {
      "cell_type": "code",
      "execution_count": 6,
      "metadata": {
        "id": "dhdBEeaWKTOi"
      },
      "outputs": [],
      "source": [
        "## To nomalize the x_val data with maximum value 255\n",
        "X_test = X_test / 255"
      ]
    },
    {
      "cell_type": "markdown",
      "metadata": {
        "id": "0qH8Tr44KTOk"
      },
      "source": [
        "**Task 4: Reshape the X arrays to include a 4 dimension of the single channel. Similar to what we did for the numbers MNIST data set.**"
      ]
    },
    {
      "cell_type": "code",
      "execution_count": 7,
      "metadata": {
        "colab": {
          "base_uri": "https://localhost:8080/"
        },
        "id": "lkE4cRdQKTOk",
        "outputId": "62706ea8-4b2c-4d99-ac4b-6631e971a49a"
      },
      "outputs": [
        {
          "output_type": "stream",
          "name": "stdout",
          "text": [
            "(60000, 28, 28) (10000, 28, 28)\n"
          ]
        }
      ],
      "source": [
        "## Know the shape of the X_train and X_test\n",
        "print(X_train.shape,X_test.shape)"
      ]
    },
    {
      "cell_type": "code",
      "execution_count": 8,
      "metadata": {
        "colab": {
          "base_uri": "https://localhost:8080/"
        },
        "id": "YoRmD8TwKTOn",
        "outputId": "46ec4570-45d1-4f94-9739-e8d9e7af4a61"
      },
      "outputs": [
        {
          "output_type": "execute_result",
          "data": {
            "text/plain": [
              "(60000, 28, 28, 1)"
            ]
          },
          "metadata": {},
          "execution_count": 8
        }
      ],
      "source": [
        "## Reshape the X_train\n",
        "X_train = X_train.reshape(-1,28,28,1)\n",
        "X_train.shape"
      ]
    },
    {
      "cell_type": "code",
      "execution_count": 9,
      "metadata": {
        "colab": {
          "base_uri": "https://localhost:8080/"
        },
        "id": "xoGLtmJrKTOo",
        "outputId": "2fb27630-365e-4969-8f06-10cdf075faaa"
      },
      "outputs": [
        {
          "output_type": "execute_result",
          "data": {
            "text/plain": [
              "(10000, 28, 28, 1)"
            ]
          },
          "metadata": {},
          "execution_count": 9
        }
      ],
      "source": [
        "## Reshape the X1_test\n",
        "X_test = X_test.reshape(-1,28,28,1)\n",
        "X_test.shape"
      ]
    },
    {
      "cell_type": "markdown",
      "metadata": {
        "id": "fAw-KvSPKTOo"
      },
      "source": [
        "**TASK 5: Convert the y_train and y_test values to be one-hot encoded for categorical analysis by Keras.**"
      ]
    },
    {
      "cell_type": "code",
      "execution_count": 10,
      "metadata": {
        "id": "uykAC8pdKTOp"
      },
      "outputs": [],
      "source": [
        "y_train_one_hot = to_categorical(y_train,10)\n",
        "y_test_one_hot =to_categorical(y_test,10)"
      ]
    },
    {
      "cell_type": "code",
      "execution_count": 11,
      "metadata": {
        "colab": {
          "base_uri": "https://localhost:8080/"
        },
        "id": "oaJhOtU_KTOq",
        "outputId": "cae0d47d-c2e6-4f95-c5f1-b02d41eea597"
      },
      "outputs": [
        {
          "output_type": "execute_result",
          "data": {
            "text/plain": [
              "(10000, 10)"
            ]
          },
          "metadata": {},
          "execution_count": 11
        }
      ],
      "source": [
        "y_test_one_hot.shape"
      ]
    },
    {
      "cell_type": "markdown",
      "metadata": {
        "id": "jlBwM73KKTOr"
      },
      "source": [
        "## Building the Model\n",
        "\n",
        "**TASK 5: Use Keras to create a model consisting of at least the following layers (but feel free to experiment):**\n",
        "\n",
        "* 2D Convolutional Layer, filters=32 and kernel_size=(4,4)\n",
        "* Pooling Layer where pool_size = (2,2)\n",
        "\n",
        "* Flatten Layer\n",
        "* Dense Layer (128 Neurons, but feel free to play around with this value), RELU activation\n",
        "\n",
        "* Final Dense Layer of 10 Neurons with a softmax activation\n",
        "\n",
        "**Then compile the model with these parameters: loss='categorical_crossentropy', optimizer='rmsprop', metrics=['accuracy']**"
      ]
    },
    {
      "cell_type": "code",
      "execution_count": 16,
      "metadata": {
        "id": "rxN20-SjKTOs"
      },
      "outputs": [],
      "source": [
        "model1 = keras.Sequential([\n",
        "    \n",
        "    layers.Conv2D(32, (4,4), activation='relu', input_shape=(28, 28, 1)),\n",
        "    layers.MaxPooling2D((2,2)),\n",
        " \n",
        "    layers.Flatten(),\n",
        "    layers.Dense(128, activation='relu'),\n",
        "    keras.layers.Dense(10, activation='softmax')\n",
        "])"
      ]
    },
    {
      "cell_type": "code",
      "execution_count": 17,
      "metadata": {
        "colab": {
          "base_uri": "https://localhost:8080/"
        },
        "id": "LkTDypcMKTOs",
        "outputId": "c16baaca-658a-4db9-8707-7a1ae21d21ec"
      },
      "outputs": [
        {
          "output_type": "stream",
          "name": "stdout",
          "text": [
            "Model: \"sequential_1\"\n",
            "_________________________________________________________________\n",
            " Layer (type)                Output Shape              Param #   \n",
            "=================================================================\n",
            " conv2d_1 (Conv2D)           (None, 25, 25, 32)        544       \n",
            "                                                                 \n",
            " max_pooling2d_1 (MaxPooling  (None, 12, 12, 32)       0         \n",
            " 2D)                                                             \n",
            "                                                                 \n",
            " flatten_1 (Flatten)         (None, 4608)              0         \n",
            "                                                                 \n",
            " dense_2 (Dense)             (None, 128)               589952    \n",
            "                                                                 \n",
            " dense_3 (Dense)             (None, 10)                1290      \n",
            "                                                                 \n",
            "=================================================================\n",
            "Total params: 591,786\n",
            "Trainable params: 591,786\n",
            "Non-trainable params: 0\n",
            "_________________________________________________________________\n"
          ]
        }
      ],
      "source": [
        "model1.summary()"
      ]
    },
    {
      "cell_type": "markdown",
      "source": [
        "**Compile the model**"
      ],
      "metadata": {
        "id": "l1-nlnMrR2UL"
      }
    },
    {
      "cell_type": "code",
      "execution_count": 19,
      "metadata": {
        "id": "R9RVj12SKTOu"
      },
      "outputs": [],
      "source": [
        "model1.compile(optimizer='rmsprop',\n",
        "              loss='categorical_crossentropy',\n",
        "              metrics=['accuracy'])\n"
      ]
    },
    {
      "cell_type": "markdown",
      "metadata": {
        "id": "HbFjg2IXKTOu"
      },
      "source": [
        "### Training the Model\n",
        "**TASK 6: Train/Fit the model to the x_train set. Amount of epochs is up to you.**"
      ]
    },
    {
      "cell_type": "code",
      "source": [
        "model1.fit(X_train, y_train_one_hot,batch_size=64, epochs=5, validation_data=(X_test, y_test_one_hot))"
      ],
      "metadata": {
        "colab": {
          "base_uri": "https://localhost:8080/"
        },
        "id": "qbHNO5WQSeXr",
        "outputId": "4cc33506-1d4f-4f80-a1f2-b79601263597"
      },
      "execution_count": 21,
      "outputs": [
        {
          "output_type": "stream",
          "name": "stdout",
          "text": [
            "Epoch 1/5\n",
            "938/938 [==============================] - 38s 40ms/step - loss: 0.2437 - accuracy: 0.9124 - val_loss: 0.2719 - val_accuracy: 0.9006\n",
            "Epoch 2/5\n",
            "938/938 [==============================] - 38s 40ms/step - loss: 0.2149 - accuracy: 0.9196 - val_loss: 0.2719 - val_accuracy: 0.9035\n",
            "Epoch 3/5\n",
            "938/938 [==============================] - 39s 42ms/step - loss: 0.1906 - accuracy: 0.9296 - val_loss: 0.2595 - val_accuracy: 0.9085\n",
            "Epoch 4/5\n",
            "938/938 [==============================] - 38s 40ms/step - loss: 0.1721 - accuracy: 0.9363 - val_loss: 0.2821 - val_accuracy: 0.9014\n",
            "Epoch 5/5\n",
            "938/938 [==============================] - 40s 43ms/step - loss: 0.1532 - accuracy: 0.9446 - val_loss: 0.2930 - val_accuracy: 0.9008\n"
          ]
        },
        {
          "output_type": "execute_result",
          "data": {
            "text/plain": [
              "<keras.callbacks.History at 0x7fc9b5c7f8e0>"
            ]
          },
          "metadata": {},
          "execution_count": 21
        }
      ]
    },
    {
      "cell_type": "markdown",
      "metadata": {
        "id": "gKDbHJy7KTOw"
      },
      "source": [
        "### Evaluating the Model\n",
        "\n",
        "**TASK 7: Show the accuracy,precision,recall,f1-score the model achieved on the x_test data set. Keep in mind, there are quite a few ways to do this, but we recommend following the same procedure we showed in the MNIST lecture.**"
      ]
    },
    {
      "cell_type": "code",
      "execution_count": 22,
      "metadata": {
        "colab": {
          "base_uri": "https://localhost:8080/"
        },
        "id": "oXIbOSGSKTOx",
        "outputId": "067afb87-4aee-46be-b2af-58e498ee3aaf"
      },
      "outputs": [
        {
          "output_type": "stream",
          "name": "stdout",
          "text": [
            "313/313 [==============================] - 2s 7ms/step\n"
          ]
        }
      ],
      "source": [
        "y_pred = model.predict(X_test)"
      ]
    },
    {
      "cell_type": "code",
      "source": [
        "## Get the prodictions\n",
        "print(y_pred)"
      ],
      "metadata": {
        "colab": {
          "base_uri": "https://localhost:8080/"
        },
        "id": "7rcbNWgMUaRv",
        "outputId": "c0b1cdaf-c2bd-4413-cc5e-05b74aa7130f"
      },
      "execution_count": 23,
      "outputs": [
        {
          "output_type": "stream",
          "name": "stdout",
          "text": [
            "[[6.4642278e-05 7.9621504e-06 1.9673085e-05 ... 4.5570944e-02\n",
            "  1.7209689e-04 9.4856393e-01]\n",
            " [6.9907321e-05 7.3862649e-10 9.9896407e-01 ... 1.4521232e-08\n",
            "  1.5792209e-07 8.4464652e-08]\n",
            " [5.3152843e-07 9.9999386e-01 3.1764746e-09 ... 2.0424660e-09\n",
            "  1.6932065e-08 7.8766454e-10]\n",
            " ...\n",
            " [1.3126254e-02 6.3891066e-06 5.0041806e-03 ... 1.1936155e-04\n",
            "  9.4386035e-01 1.1868668e-05]\n",
            " [2.7095468e-06 9.9795377e-01 3.4210632e-07 ... 3.7845639e-06\n",
            "  3.7000373e-06 5.3331019e-06]\n",
            " [3.6527643e-03 3.1306606e-04 6.1357445e-03 ... 2.5492224e-01\n",
            "  1.6526276e-02 5.4572364e-03]]\n"
          ]
        }
      ]
    },
    {
      "cell_type": "code",
      "execution_count": 24,
      "metadata": {
        "id": "h4CKpqdLKTOy"
      },
      "outputs": [],
      "source": [
        "## Import the required libraries for get the score\n",
        "from sklearn.metrics import accuracy_score, precision_score, recall_score, f1_score"
      ]
    },
    {
      "cell_type": "code",
      "execution_count": 27,
      "metadata": {
        "id": "wRGYA6MxKTO1"
      },
      "outputs": [],
      "source": [
        "y_pred_1=np.argmax(y_pred, axis = 1)"
      ]
    },
    {
      "cell_type": "code",
      "execution_count": 28,
      "metadata": {
        "id": "E-h3_qfOKTO2"
      },
      "outputs": [],
      "source": [
        "y_test_class = np.argmax(y_test_one_hot, axis=1)"
      ]
    },
    {
      "cell_type": "code",
      "execution_count": 29,
      "metadata": {
        "colab": {
          "base_uri": "https://localhost:8080/"
        },
        "id": "j04mzA9dKTO2",
        "outputId": "de600aa2-f28c-4a5d-a7c1-bd3416d492cd"
      },
      "outputs": [
        {
          "output_type": "execute_result",
          "data": {
            "text/plain": [
              "array([[6.4642278e-05, 7.9621504e-06, 1.9673085e-05, ..., 4.5570944e-02,\n",
              "        1.7209689e-04, 9.4856393e-01],\n",
              "       [6.9907321e-05, 7.3862649e-10, 9.9896407e-01, ..., 1.4521232e-08,\n",
              "        1.5792209e-07, 8.4464652e-08],\n",
              "       [5.3152843e-07, 9.9999386e-01, 3.1764746e-09, ..., 2.0424660e-09,\n",
              "        1.6932065e-08, 7.8766454e-10],\n",
              "       ...,\n",
              "       [1.3126254e-02, 6.3891066e-06, 5.0041806e-03, ..., 1.1936155e-04,\n",
              "        9.4386035e-01, 1.1868668e-05],\n",
              "       [2.7095468e-06, 9.9795377e-01, 3.4210632e-07, ..., 3.7845639e-06,\n",
              "        3.7000373e-06, 5.3331019e-06],\n",
              "       [3.6527643e-03, 3.1306606e-04, 6.1357445e-03, ..., 2.5492224e-01,\n",
              "        1.6526276e-02, 5.4572364e-03]], dtype=float32)"
            ]
          },
          "metadata": {},
          "execution_count": 29
        }
      ],
      "source": [
        "y_pred"
      ]
    },
    {
      "cell_type": "code",
      "execution_count": 30,
      "metadata": {
        "colab": {
          "base_uri": "https://localhost:8080/"
        },
        "id": "m-exayhrKTO3",
        "outputId": "99c5a431-7fe4-4da6-b59c-7ee5741aa4da"
      },
      "outputs": [
        {
          "output_type": "stream",
          "name": "stdout",
          "text": [
            "Accuracy is : 0.8794\n"
          ]
        }
      ],
      "source": [
        "## Accuracy\n",
        "accuracy = accuracy_score(y_test_class, y_pred_1)\n",
        "print('Accuracy is :',accuracy)"
      ]
    },
    {
      "cell_type": "code",
      "execution_count": 31,
      "metadata": {
        "colab": {
          "base_uri": "https://localhost:8080/"
        },
        "id": "yu7TwO-jKTO4",
        "outputId": "d5700478-ed0a-42f5-9bba-aa7ea5802daf"
      },
      "outputs": [
        {
          "output_type": "stream",
          "name": "stdout",
          "text": [
            "Precision is : 0.8830260829666713\n"
          ]
        }
      ],
      "source": [
        "##  Precision\n",
        "precision = precision_score(y_test_class, y_pred_1,average='weighted')\n",
        "print('Precision is :',precision)"
      ]
    },
    {
      "cell_type": "code",
      "execution_count": 32,
      "metadata": {
        "colab": {
          "base_uri": "https://localhost:8080/"
        },
        "id": "EdpCyOCcKTO7",
        "outputId": "3f75ae31-af0c-4ef2-e397-854cb038c000"
      },
      "outputs": [
        {
          "output_type": "stream",
          "name": "stdout",
          "text": [
            "Recall is : 0.8794\n"
          ]
        }
      ],
      "source": [
        "## Recall\n",
        "recall = recall_score(y_test_class, y_pred_1,average='weighted')\n",
        "print('Recall is :',recall)"
      ]
    },
    {
      "cell_type": "code",
      "execution_count": 33,
      "metadata": {
        "colab": {
          "base_uri": "https://localhost:8080/"
        },
        "id": "I0Bj2A8dKTO8",
        "outputId": "d27c8dec-0f77-43a5-fabc-6c8ba3f5163b"
      },
      "outputs": [
        {
          "output_type": "stream",
          "name": "stdout",
          "text": [
            "F1 Score is : 0.8805369701476826\n"
          ]
        }
      ],
      "source": [
        "## F1 Score\n",
        "f1 = f1_score(y_test_class, y_pred_1,average='weighted')\n",
        "print('F1 Score is :',f1)"
      ]
    },
    {
      "cell_type": "markdown",
      "source": [
        "**Apply the Transfer Learning**"
      ],
      "metadata": {
        "id": "awaVQVMtWKky"
      }
    },
    {
      "cell_type": "code",
      "execution_count": 34,
      "metadata": {
        "id": "zqJGZxEHKTO_"
      },
      "outputs": [],
      "source": [
        "### Reshape the data\n",
        "X_train = X_train.reshape((X_train.shape[0],28,28))\n",
        "X_test = X_test.reshape((X_test.shape[0],28,28))\n",
        "\n",
        "## Change the type to float\n",
        "X_train = X_train.astype('float32')\n",
        "X_test = X_test.astype('float32')\n",
        "\n",
        "## Convert data to three channels\n",
        "X_train = np.stack((X_train,)*3,axis=-1)\n",
        "X_test = np.stack((X_test,)*3,axis=-1)"
      ]
    },
    {
      "cell_type": "code",
      "execution_count": 35,
      "metadata": {
        "colab": {
          "base_uri": "https://localhost:8080/"
        },
        "id": "79Up4HLEKTPA",
        "outputId": "0531de9d-7a84-475d-f197-c3e5f54143e5"
      },
      "outputs": [
        {
          "output_type": "execute_result",
          "data": {
            "text/plain": [
              "((60000, 28, 28, 3), (10000, 28, 28, 3))"
            ]
          },
          "metadata": {},
          "execution_count": 35
        }
      ],
      "source": [
        "X_train.shape,X_test.shape"
      ]
    },
    {
      "cell_type": "code",
      "execution_count": 36,
      "metadata": {
        "id": "1t25Wb0MKTPv"
      },
      "outputs": [],
      "source": [
        "from tensorflow.keras.applications import ResNet50\n",
        "from tensorflow.keras.applications.resnet50  import preprocess_input\n",
        "from tensorflow.keras.models import Sequential\n",
        "from tensorflow.keras.layers import Dense\n"
      ]
    },
    {
      "cell_type": "code",
      "execution_count": 39,
      "metadata": {
        "id": "E_qEU8CKKTPy"
      },
      "outputs": [],
      "source": [
        "model2=Sequential()\n",
        "\n",
        "# add the pretrained model\n",
        "model2.add(ResNet50(include_top=False,pooling='avg',weights='imagenet'))\n",
        "\n",
        "#add fully connected layers with out put\n",
        "model2.add(Dense(128, activation='relu')),\n",
        "model2.add(Dense(10, activation='softmax'))\n",
        "\n",
        "#set resnet layers not trainable\n",
        "model2.layers[0].trainable=False\n"
      ]
    },
    {
      "cell_type": "code",
      "execution_count": 40,
      "metadata": {
        "colab": {
          "base_uri": "https://localhost:8080/"
        },
        "id": "pFv0YFwaKTPz",
        "outputId": "1e3a0ba1-ef7b-4142-9b7a-bff0b8219ab5"
      },
      "outputs": [
        {
          "output_type": "stream",
          "name": "stdout",
          "text": [
            "Model: \"sequential_4\"\n",
            "_________________________________________________________________\n",
            " Layer (type)                Output Shape              Param #   \n",
            "=================================================================\n",
            " resnet50 (Functional)       (None, 2048)              23587712  \n",
            "                                                                 \n",
            " dense_6 (Dense)             (None, 128)               262272    \n",
            "                                                                 \n",
            " dense_7 (Dense)             (None, 10)                1290      \n",
            "                                                                 \n",
            "=================================================================\n",
            "Total params: 23,851,274\n",
            "Trainable params: 263,562\n",
            "Non-trainable params: 23,587,712\n",
            "_________________________________________________________________\n"
          ]
        }
      ],
      "source": [
        "model2.summary()"
      ]
    },
    {
      "cell_type": "markdown",
      "source": [
        "**Compile model**"
      ],
      "metadata": {
        "id": "rODhLvrHW0Xd"
      }
    },
    {
      "cell_type": "code",
      "execution_count": 41,
      "metadata": {
        "id": "GH9eecDsKTP0"
      },
      "outputs": [],
      "source": [
        "model2.compile(optimizer='rmsprop',\n",
        "              loss='categorical_crossentropy',\n",
        "              metrics=['accuracy'])\n"
      ]
    },
    {
      "cell_type": "code",
      "execution_count": 42,
      "metadata": {
        "colab": {
          "base_uri": "https://localhost:8080/"
        },
        "id": "dHYoo2I-KTP0",
        "outputId": "15a2c335-285c-483c-9b47-53c469db757b"
      },
      "outputs": [
        {
          "output_type": "stream",
          "name": "stdout",
          "text": [
            "Epoch 1/5\n",
            "938/938 [==============================] - 311s 326ms/step - loss: 0.9610 - accuracy: 0.6484 - val_loss: 0.7714 - val_accuracy: 0.7108\n",
            "Epoch 2/5\n",
            "938/938 [==============================] - 278s 296ms/step - loss: 0.6917 - accuracy: 0.7389 - val_loss: 0.7636 - val_accuracy: 0.6946\n",
            "Epoch 3/5\n",
            "938/938 [==============================] - 279s 298ms/step - loss: 0.6402 - accuracy: 0.7552 - val_loss: 0.6179 - val_accuracy: 0.7741\n",
            "Epoch 4/5\n",
            "938/938 [==============================] - 322s 343ms/step - loss: 0.6104 - accuracy: 0.7684 - val_loss: 0.6772 - val_accuracy: 0.7426\n",
            "Epoch 5/5\n",
            "938/938 [==============================] - 282s 300ms/step - loss: 0.5947 - accuracy: 0.7726 - val_loss: 0.7141 - val_accuracy: 0.7262\n"
          ]
        },
        {
          "output_type": "execute_result",
          "data": {
            "text/plain": [
              "<keras.callbacks.History at 0x7fc9e5ab17c0>"
            ]
          },
          "metadata": {},
          "execution_count": 42
        }
      ],
      "source": [
        "model2.fit(X_train, y_train_one_hot, batch_size=64,epochs=5, validation_data=(X_test, y_test_one_hot))"
      ]
    },
    {
      "cell_type": "code",
      "execution_count": 43,
      "metadata": {
        "colab": {
          "base_uri": "https://localhost:8080/"
        },
        "id": "8gyU94u1KTP1",
        "outputId": "8e90d6ed-5d7e-40bb-cc3c-2d2db7509018"
      },
      "outputs": [
        {
          "output_type": "stream",
          "name": "stdout",
          "text": [
            "313/313 [==============================] - 59s 183ms/step\n",
            "[[1.89419425e-05 8.32778735e-09 2.10622547e-05 ... 1.27666863e-02\n",
            "  1.32592693e-02 4.08995032e-01]\n",
            " [7.44310915e-02 1.11113714e-07 8.80309582e-01 ... 1.91844683e-11\n",
            "  4.02835989e-03 5.59940649e-10]\n",
            " [3.98164993e-05 9.97314453e-01 5.79886037e-05 ... 2.28379034e-11\n",
            "  7.97003850e-08 3.99944869e-11]\n",
            " ...\n",
            " [6.42832543e-04 2.10006488e-06 7.79417926e-04 ... 5.56063862e-09\n",
            "  9.91034150e-01 2.28406947e-07]\n",
            " [1.04242508e-05 9.94958103e-01 2.16852141e-06 ... 5.94345129e-10\n",
            "  2.17306862e-07 1.34907040e-07]\n",
            " [3.25174560e-03 3.37383797e-04 7.25704769e-04 ... 9.73298587e-03\n",
            "  2.20308267e-02 5.22258524e-05]]\n"
          ]
        }
      ],
      "source": [
        "## Get the predictions\n",
        "y_pred = model2.predict(X_test)\n",
        "print(y_pred)"
      ]
    },
    {
      "cell_type": "code",
      "execution_count": 44,
      "metadata": {
        "id": "DIEpXKuBKTP1"
      },
      "outputs": [],
      "source": [
        "## Import the metrics\n",
        "from sklearn.metrics import accuracy_score, precision_score, recall_score, f1_score"
      ]
    },
    {
      "cell_type": "code",
      "execution_count": 45,
      "metadata": {
        "colab": {
          "base_uri": "https://localhost:8080/"
        },
        "id": "0UMPeYd3KTP3",
        "outputId": "c5740fe9-8ea6-470c-9a87-ccb127015c08"
      },
      "outputs": [
        {
          "output_type": "stream",
          "name": "stdout",
          "text": [
            "Accuracy is : 0.8794\n"
          ]
        }
      ],
      "source": [
        "## Accuracy\n",
        "accuracy = accuracy_score(y_test_class, y_pred_1)\n",
        "print('Accuracy is :',accuracy)"
      ]
    },
    {
      "cell_type": "code",
      "execution_count": 46,
      "metadata": {
        "colab": {
          "base_uri": "https://localhost:8080/"
        },
        "id": "9SQ_3AV7KTP7",
        "outputId": "ad5089c2-4445-40ce-8ed1-d61b8909cde9"
      },
      "outputs": [
        {
          "output_type": "stream",
          "name": "stdout",
          "text": [
            "Recall is : 0.8794\n"
          ]
        }
      ],
      "source": [
        "## Recall\n",
        "recall = recall_score(y_test_class, y_pred_1,average='weighted')\n",
        "print('Recall is :',recall)"
      ]
    },
    {
      "cell_type": "code",
      "source": [
        "## F1 Score\n",
        "f1 = f1_score(y_test_class, y_pred_1,average='weighted')\n",
        "print('F1 Score is :',f1)"
      ],
      "metadata": {
        "colab": {
          "base_uri": "https://localhost:8080/"
        },
        "id": "_UNxrc__Xqy-",
        "outputId": "fc82c1d6-7206-4adc-9f74-611bdb9cb33a"
      },
      "execution_count": 47,
      "outputs": [
        {
          "output_type": "stream",
          "name": "stdout",
          "text": [
            "F1 Score is : 0.8805369701476826\n"
          ]
        }
      ]
    },
    {
      "cell_type": "code",
      "source": [],
      "metadata": {
        "id": "6SXQd7jIdN4s"
      },
      "execution_count": 47,
      "outputs": []
    }
  ],
  "metadata": {
    "kernelspec": {
      "display_name": "Python 3 (ipykernel)",
      "language": "python",
      "name": "python3"
    },
    "language_info": {
      "codemirror_mode": {
        "name": "ipython",
        "version": 3
      },
      "file_extension": ".py",
      "mimetype": "text/x-python",
      "name": "python",
      "nbconvert_exporter": "python",
      "pygments_lexer": "ipython3",
      "version": "3.9.12"
    },
    "colab": {
      "provenance": []
    }
  },
  "nbformat": 4,
  "nbformat_minor": 0
}